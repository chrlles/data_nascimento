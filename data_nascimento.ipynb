{
 "cells": [
  {
   "cell_type": "code",
   "execution_count": 4,
   "id": "8b7f55e1",
   "metadata": {},
   "outputs": [
    {
     "name": "stdout",
     "output_type": "stream",
     "text": [
      "data nascimento: 11/07/1998\n",
      "você nasceu no dia: 11/07/1998\n"
     ]
    }
   ],
   "source": [
    "nascimento = input('data nascimento: ')\n",
    "print(f'você nasceu no dia: {nascimento}')"
   ]
  },
  {
   "cell_type": "code",
   "execution_count": 6,
   "id": "a8bdf022",
   "metadata": {},
   "outputs": [
    {
     "name": "stdout",
     "output_type": "stream",
     "text": [
      "digite o mês do seu aniversario: julho\n",
      "O mês do seu aniversario é: julho\n"
     ]
    }
   ],
   "source": [
    "mes_niver = input('digite o mês do seu aniversario: ')\n",
    "print(f'O mês do seu aniversario é: {mes_niver}')"
   ]
  },
  {
   "cell_type": "code",
   "execution_count": 7,
   "id": "40a496da",
   "metadata": {},
   "outputs": [
    {
     "name": "stdout",
     "output_type": "stream",
     "text": [
      "digite o dia do seu aniversario: 11\n",
      " o dia do seu aniversario é: 11\n"
     ]
    }
   ],
   "source": [
    "dia = input('digite o dia do seu aniversario: ')\n",
    "print(f' o dia do seu aniversario é: {dia}')"
   ]
  },
  {
   "cell_type": "code",
   "execution_count": null,
   "id": "8d92c5a2",
   "metadata": {},
   "outputs": [],
   "source": []
  }
 ],
 "metadata": {
  "kernelspec": {
   "display_name": "Python 3",
   "language": "python",
   "name": "python3"
  },
  "language_info": {
   "codemirror_mode": {
    "name": "ipython",
    "version": 3
   },
   "file_extension": ".py",
   "mimetype": "text/x-python",
   "name": "python",
   "nbconvert_exporter": "python",
   "pygments_lexer": "ipython3",
   "version": "3.8.8"
  }
 },
 "nbformat": 4,
 "nbformat_minor": 5
}
